{
  "nbformat": 4,
  "nbformat_minor": 0,
  "metadata": {
    "colab": {
      "name": "LDA.ipynb",
      "provenance": [],
      "collapsed_sections": [
        "xMKREHkHadoq",
        "hYyd0j09ZVil",
        "zPXsVxhGZZWH",
        "X5ikEC2GZmXk"
      ],
      "include_colab_link": true
    },
    "kernelspec": {
      "name": "python3",
      "display_name": "Python 3"
    }
  },
  "cells": [
    {
      "cell_type": "markdown",
      "metadata": {
        "id": "view-in-github",
        "colab_type": "text"
      },
      "source": [
        "<a href=\"https://colab.research.google.com/github/tathatj/Machine_learning/blob/master/LDA.ipynb\" target=\"_parent\"><img src=\"https://colab.research.google.com/assets/colab-badge.svg\" alt=\"Open In Colab\"/></a>"
      ]
    },
    {
      "cell_type": "markdown",
      "metadata": {
        "id": "xMKREHkHadoq",
        "colab_type": "text"
      },
      "source": [
        "##Loading data set"
      ]
    },
    {
      "cell_type": "code",
      "metadata": {
        "id": "1sgpMraRExyJ",
        "colab_type": "code",
        "colab": {}
      },
      "source": [
        "import pandas as pd"
      ],
      "execution_count": 0,
      "outputs": []
    },
    {
      "cell_type": "code",
      "metadata": {
        "id": "6m5kpv7iFBLk",
        "colab_type": "code",
        "colab": {}
      },
      "source": [
        "df=pd.read_csv('https://raw.githubusercontent.com/selva86/datasets/master/Smarket.csv')"
      ],
      "execution_count": 0,
      "outputs": []
    },
    {
      "cell_type": "code",
      "metadata": {
        "id": "9gfQHoYzFHcR",
        "colab_type": "code",
        "outputId": "1f7ee307-ea76-436d-ab96-698614879b8b",
        "colab": {
          "base_uri": "https://localhost:8080/",
          "height": 130
        }
      },
      "source": [
        "print(df.head())"
      ],
      "execution_count": 0,
      "outputs": [
        {
          "output_type": "stream",
          "text": [
            "   Year   Lag1   Lag2   Lag3   Lag4   Lag5  Volume  Today Direction\n",
            "0  2001  0.381 -0.192 -2.624 -1.055  5.010  1.1913  0.959        Up\n",
            "1  2001  0.959  0.381 -0.192 -2.624 -1.055  1.2965  1.032        Up\n",
            "2  2001  1.032  0.959  0.381 -0.192 -2.624  1.4112 -0.623      Down\n",
            "3  2001 -0.623  1.032  0.959  0.381 -0.192  1.2760  0.614        Up\n",
            "4  2001  0.614 -0.623  1.032  0.959  0.381  1.2057  0.213        Up\n"
          ],
          "name": "stdout"
        }
      ]
    },
    {
      "cell_type": "code",
      "metadata": {
        "id": "FEGMf9xWKI21",
        "colab_type": "code",
        "colab": {}
      },
      "source": [
        ""
      ],
      "execution_count": 0,
      "outputs": []
    },
    {
      "cell_type": "markdown",
      "metadata": {
        "id": "hYyd0j09ZVil",
        "colab_type": "text"
      },
      "source": [
        "##LDA"
      ]
    },
    {
      "cell_type": "code",
      "metadata": {
        "id": "z1SyYVSBJXMt",
        "colab_type": "code",
        "colab": {}
      },
      "source": [
        "\n",
        "X = df.iloc[:,1:8].values\n",
        "y = df.iloc[:,8].values\n",
        "\n",
        "\n"
      ],
      "execution_count": 0,
      "outputs": []
    },
    {
      "cell_type": "code",
      "metadata": {
        "id": "BVlrkA8lM49B",
        "colab_type": "code",
        "colab": {}
      },
      "source": [
        "from sklearn.model_selection import train_test_split\n",
        "\n",
        "X_train, X_test, y_train, y_test = train_test_split(X, y, test_size=0.2, random_state=0)"
      ],
      "execution_count": 0,
      "outputs": []
    },
    {
      "cell_type": "code",
      "metadata": {
        "id": "RMNnMbJYY01R",
        "colab_type": "code",
        "colab": {}
      },
      "source": [
        "from sklearn.discriminant_analysis import LinearDiscriminantAnalysis as LDA\n",
        "\n",
        "lda = LDA(n_components=1)\n",
        "X_train = lda.fit(X_train, y_train)\n",
        "y_pred = lda.predict(X_test)\n"
      ],
      "execution_count": 0,
      "outputs": []
    },
    {
      "cell_type": "code",
      "metadata": {
        "id": "xy1vKnl6Y8mx",
        "colab_type": "code",
        "outputId": "4e22e777-1d59-43ca-acb9-9c351b99669a",
        "colab": {
          "base_uri": "https://localhost:8080/",
          "height": 73
        }
      },
      "source": [
        "from sklearn.metrics import confusion_matrix\n",
        "from sklearn.metrics import accuracy_score\n",
        "\n",
        "cm = confusion_matrix(y_test, y_pred)\n",
        "print(cm)\n",
        "print('Accuracy ' + str(accuracy_score(y_test, y_pred)))"
      ],
      "execution_count": 0,
      "outputs": [
        {
          "output_type": "stream",
          "text": [
            "[[114   9]\n",
            " [  0 127]]\n",
            "Accuracy 0.964\n"
          ],
          "name": "stdout"
        }
      ]
    },
    {
      "cell_type": "markdown",
      "metadata": {
        "id": "zPXsVxhGZZWH",
        "colab_type": "text"
      },
      "source": [
        "##LDA with different step size"
      ]
    },
    {
      "cell_type": "code",
      "metadata": {
        "id": "Jo-yLRRqVA7y",
        "colab_type": "code",
        "colab": {}
      },
      "source": [
        "import numpy as np\n",
        "size=np.arange(0.1,1,step=0.1)"
      ],
      "execution_count": 0,
      "outputs": []
    },
    {
      "cell_type": "code",
      "metadata": {
        "id": "GPtv8JpbWt3N",
        "colab_type": "code",
        "colab": {}
      },
      "source": [
        "import matplotlib.pyplot as plt"
      ],
      "execution_count": 0,
      "outputs": []
    },
    {
      "cell_type": "code",
      "metadata": {
        "id": "RGeNdwTYVyOP",
        "colab_type": "code",
        "colab": {}
      },
      "source": [
        "def acc_score(size):\n",
        "  X_train, X_test, y_train, y_test = train_test_split(X, y, test_size=size, random_state=0)\n",
        "  X_train = lda.fit(X_train, y_train)\n",
        "  y_pred = lda.predict(X_test)\n",
        "  return (accuracy_score(y_test, y_pred))\n",
        "  \n",
        "  \n",
        "  \n",
        "  "
      ],
      "execution_count": 0,
      "outputs": []
    },
    {
      "cell_type": "code",
      "metadata": {
        "id": "krrCOIrTXlwK",
        "colab_type": "code",
        "outputId": "6cf16574-49ce-40e8-ba29-03a1bfcb2dee",
        "colab": {
          "base_uri": "https://localhost:8080/",
          "height": 283
        }
      },
      "source": [
        "for i in size:\n",
        "  plt.plot(i,acc_score(i),'o')\n",
        "  plt.xlabel('Test size')\n",
        "  plt.ylabel('Acurracy')"
      ],
      "execution_count": 0,
      "outputs": [
        {
          "output_type": "display_data",
          "data": {
            "image/png": "[encoded data removed]",
            "text/plain": [
              "<Figure size 432x288 with 1 Axes>"
            ]
          },
          "metadata": {
            "tags": []
          }
        }
      ]
    },
    {
      "cell_type": "markdown",
      "metadata": {
        "id": "X5ikEC2GZmXk",
        "colab_type": "text"
      },
      "source": [
        "##LDA with transform and ensemble"
      ]
    },
    {
      "cell_type": "code",
      "metadata": {
        "id": "ecnCQPL7aiwv",
        "colab_type": "code",
        "colab": {}
      },
      "source": [
        "X = df.iloc[:,1:8].values\n",
        "y = df.iloc[:,8].values\n"
      ],
      "execution_count": 0,
      "outputs": []
    },
    {
      "cell_type": "code",
      "metadata": {
        "id": "eJgN0l4gasgI",
        "colab_type": "code",
        "colab": {}
      },
      "source": [
        "from sklearn.model_selection import train_test_split\n",
        "\n",
        "X_train, X_test, y_train, y_test = train_test_split(X, y, test_size=0.2, random_state=0)"
      ],
      "execution_count": 0,
      "outputs": []
    },
    {
      "cell_type": "code",
      "metadata": {
        "id": "SJBibfnsNjw0",
        "colab_type": "code",
        "colab": {}
      },
      "source": [
        "from sklearn.preprocessing import StandardScaler\n",
        "\n",
        "sc = StandardScaler()\n",
        "X_train = sc.fit_transform(X_train)\n",
        "X_test = sc.transform(X_test)"
      ],
      "execution_count": 0,
      "outputs": []
    },
    {
      "cell_type": "code",
      "metadata": {
        "id": "7H1Vx59KNnyk",
        "colab_type": "code",
        "colab": {}
      },
      "source": [
        "from sklearn.discriminant_analysis import LinearDiscriminantAnalysis as LDA\n",
        "\n",
        "lda = LDA(n_components=1)\n",
        "X_train = lda.fit_transform(X_train, y_train)\n",
        "X_test = lda.transform(X_test)"
      ],
      "execution_count": 0,
      "outputs": []
    },
    {
      "cell_type": "code",
      "metadata": {
        "id": "vnMxN0wHNuwd",
        "colab_type": "code",
        "outputId": "9f51abd5-39b0-4d35-ff63-2f429fad2ffc",
        "colab": {
          "base_uri": "https://localhost:8080/",
          "height": 75
        }
      },
      "source": [
        "from sklearn.ensemble import RandomForestClassifier\n",
        "\n",
        "classifier = RandomForestClassifier(max_depth=2, random_state=0)\n",
        "\n",
        "classifier.fit(X_train, y_train)\n",
        "y_pred = classifier.predict(X_test)"
      ],
      "execution_count": 0,
      "outputs": [
        {
          "output_type": "stream",
          "text": [
            "/usr/local/lib/python3.6/dist-packages/sklearn/ensemble/forest.py:245: FutureWarning: The default value of n_estimators will change from 10 in version 0.20 to 100 in 0.22.\n",
            "  \"10 in version 0.20 to 100 in 0.22.\", FutureWarning)\n"
          ],
          "name": "stderr"
        }
      ]
    },
    {
      "cell_type": "code",
      "metadata": {
        "id": "y04Q6BYAN5Ix",
        "colab_type": "code",
        "outputId": "e4dd3778-933e-4573-dd0b-e3f190a3d039",
        "colab": {
          "base_uri": "https://localhost:8080/",
          "height": 73
        }
      },
      "source": [
        "from sklearn.metrics import confusion_matrix\n",
        "from sklearn.metrics import accuracy_score\n",
        "\n",
        "cm = confusion_matrix(y_test, y_pred)\n",
        "print(cm)\n",
        "print('Accuracy ' + str(accuracy_score(y_test, y_pred)))"
      ],
      "execution_count": 0,
      "outputs": [
        {
          "output_type": "stream",
          "text": [
            "[[118   5]\n",
            " [  0 127]]\n",
            "Accuracy 0.98\n"
          ],
          "name": "stdout"
        }
      ]
    },
    {
      "cell_type": "code",
      "metadata": {
        "id": "mF_SVjKnR_90",
        "colab_type": "code",
        "colab": {}
      },
      "source": [
        ""
      ],
      "execution_count": 0,
      "outputs": []
    }
  ]
}